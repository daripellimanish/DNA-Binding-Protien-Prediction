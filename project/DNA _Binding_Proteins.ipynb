{
 "cells": [
  {
   "cell_type": "code",
   "execution_count": 1,
   "metadata": {},
   "outputs": [],
   "source": [
    "import pandas as pd\n",
    "import matplotlib.pyplot as plt\n",
    "import numpy as np\n",
    "import csv\n",
    "import seaborn as sns\n",
    "from sklearn.metrics import accuracy_score\n",
    "from sklearn.model_selection import train_test_split\n",
    "from sklearn import svm\n",
    "from sklearn.model_selection import GridSearchCV\n",
    "from sklearn.svm import SVC\n",
    "from sklearn.pipeline import Pipeline\n",
    "from sklearn.neighbors import KNeighborsClassifier\n",
    "from sklearn.ensemble import RandomForestClassifier\n",
    "\n"
   ]
  },
  {
   "cell_type": "code",
   "execution_count": 2,
   "metadata": {},
   "outputs": [
    {
     "data": {
      "text/plain": [
       "<bound method NDFrame.head of          ID  Type                                           Sequence\n",
       "0     D1001   DNA  EPATILLIDDHPMLRTGVKQLISMAPDITVVGEASNGEQGIELAES...\n",
       "1     D1005   DNA  MKRESHKHAEQARRNRLAVALHELASLIPAEWKQQNVSAAPSKATT...\n",
       "2     D1008   DNA                      RPYACPVESCDRRFSRSADLTRHIRIHTG\n",
       "3     D1010   DNA  GPYLVIVEQPKQRGFRFRYGCEGPSHGGLPGASSEKGRKTYPTVKI...\n",
       "4     D1015   DNA  ALTNAQILAVIDSWEETVGQFPVITHHVPLGGGLQGTLHCYEIPLA...\n",
       "...     ...   ...                                                ...\n",
       "3044  N5408  NDNA  MANMLYFSLLALLFMTGIASEGTISSGLASLKAKIDAKRPSGKQLF...\n",
       "3045  N5410  NDNA  MTFRKSFDCYDFYDRAKVGEKCTQDDWDLMKIPMKAMELKQKYGLD...\n",
       "3046  N5412  NDNA  MSPYFKLSSALIFLAITMEALCSPIENTSTSNKDNDKETEHIEISA...\n",
       "3047  N5414  NDNA  MGRICPVNSRARRLRARPGRPSGDSLPYHQLQGGAPRLWSPDPGRP...\n",
       "3048  N5416  NDNA  MYSFVSEETGTLIVNSVLLFLAFVVFLLVTLAILTALRLCAYCCNI...\n",
       "\n",
       "[3049 rows x 3 columns]>"
      ]
     },
     "execution_count": 2,
     "metadata": {},
     "output_type": "execute_result"
    }
   ],
   "source": [
    "Train_data = pd.read_csv(\"train.csv\")\n",
    "Train_data.head"
   ]
  },
  {
   "cell_type": "code",
   "execution_count": 3,
   "metadata": {},
   "outputs": [
    {
     "data": {
      "text/plain": [
       "<bound method NDFrame.head of          ID  Type                                           Sequence\n",
       "0     D1001     1  EPATILLIDDHPMLRTGVKQLISMAPDITVVGEASNGEQGIELAES...\n",
       "1     D1005     1  MKRESHKHAEQARRNRLAVALHELASLIPAEWKQQNVSAAPSKATT...\n",
       "2     D1008     1                      RPYACPVESCDRRFSRSADLTRHIRIHTG\n",
       "3     D1010     1  GPYLVIVEQPKQRGFRFRYGCEGPSHGGLPGASSEKGRKTYPTVKI...\n",
       "4     D1015     1  ALTNAQILAVIDSWEETVGQFPVITHHVPLGGGLQGTLHCYEIPLA...\n",
       "...     ...   ...                                                ...\n",
       "3044  N5408     0  MANMLYFSLLALLFMTGIASEGTISSGLASLKAKIDAKRPSGKQLF...\n",
       "3045  N5410     0  MTFRKSFDCYDFYDRAKVGEKCTQDDWDLMKIPMKAMELKQKYGLD...\n",
       "3046  N5412     0  MSPYFKLSSALIFLAITMEALCSPIENTSTSNKDNDKETEHIEISA...\n",
       "3047  N5414     0  MGRICPVNSRARRLRARPGRPSGDSLPYHQLQGGAPRLWSPDPGRP...\n",
       "3048  N5416     0  MYSFVSEETGTLIVNSVLLFLAFVVFLLVTLAILTALRLCAYCCNI...\n",
       "\n",
       "[3049 rows x 3 columns]>"
      ]
     },
     "execution_count": 3,
     "metadata": {},
     "output_type": "execute_result"
    }
   ],
   "source": [
    "Train_data.loc[Train_data['Type']=='DNA','Type']=1\n",
    "Train_data.loc[Train_data['Type']=='NDNA','Type']=0\n",
    "Train_data['Type'] = Train_data['Type'].astype(int, errors = 'raise')\n",
    "Train_data.head"
   ]
  },
  {
   "cell_type": "code",
   "execution_count": 4,
   "metadata": {},
   "outputs": [
    {
     "data": {
      "text/html": [
       "<div>\n",
       "<style scoped>\n",
       "    .dataframe tbody tr th:only-of-type {\n",
       "        vertical-align: middle;\n",
       "    }\n",
       "\n",
       "    .dataframe tbody tr th {\n",
       "        vertical-align: top;\n",
       "    }\n",
       "\n",
       "    .dataframe thead th {\n",
       "        text-align: right;\n",
       "    }\n",
       "</style>\n",
       "<table border=\"1\" class=\"dataframe\">\n",
       "  <thead>\n",
       "    <tr style=\"text-align: right;\">\n",
       "      <th></th>\n",
       "      <th>Type</th>\n",
       "      <th>Sequence</th>\n",
       "    </tr>\n",
       "  </thead>\n",
       "  <tbody>\n",
       "    <tr>\n",
       "      <th>0</th>\n",
       "      <td>1</td>\n",
       "      <td>EPATILLIDDHPMLRTGVKQLISMAPDITVVGEASNGEQGIELAES...</td>\n",
       "    </tr>\n",
       "    <tr>\n",
       "      <th>1</th>\n",
       "      <td>1</td>\n",
       "      <td>MKRESHKHAEQARRNRLAVALHELASLIPAEWKQQNVSAAPSKATT...</td>\n",
       "    </tr>\n",
       "    <tr>\n",
       "      <th>2</th>\n",
       "      <td>1</td>\n",
       "      <td>RPYACPVESCDRRFSRSADLTRHIRIHTG</td>\n",
       "    </tr>\n",
       "    <tr>\n",
       "      <th>3</th>\n",
       "      <td>1</td>\n",
       "      <td>GPYLVIVEQPKQRGFRFRYGCEGPSHGGLPGASSEKGRKTYPTVKI...</td>\n",
       "    </tr>\n",
       "    <tr>\n",
       "      <th>4</th>\n",
       "      <td>1</td>\n",
       "      <td>ALTNAQILAVIDSWEETVGQFPVITHHVPLGGGLQGTLHCYEIPLA...</td>\n",
       "    </tr>\n",
       "    <tr>\n",
       "      <th>...</th>\n",
       "      <td>...</td>\n",
       "      <td>...</td>\n",
       "    </tr>\n",
       "    <tr>\n",
       "      <th>3044</th>\n",
       "      <td>0</td>\n",
       "      <td>MANMLYFSLLALLFMTGIASEGTISSGLASLKAKIDAKRPSGKQLF...</td>\n",
       "    </tr>\n",
       "    <tr>\n",
       "      <th>3045</th>\n",
       "      <td>0</td>\n",
       "      <td>MTFRKSFDCYDFYDRAKVGEKCTQDDWDLMKIPMKAMELKQKYGLD...</td>\n",
       "    </tr>\n",
       "    <tr>\n",
       "      <th>3046</th>\n",
       "      <td>0</td>\n",
       "      <td>MSPYFKLSSALIFLAITMEALCSPIENTSTSNKDNDKETEHIEISA...</td>\n",
       "    </tr>\n",
       "    <tr>\n",
       "      <th>3047</th>\n",
       "      <td>0</td>\n",
       "      <td>MGRICPVNSRARRLRARPGRPSGDSLPYHQLQGGAPRLWSPDPGRP...</td>\n",
       "    </tr>\n",
       "    <tr>\n",
       "      <th>3048</th>\n",
       "      <td>0</td>\n",
       "      <td>MYSFVSEETGTLIVNSVLLFLAFVVFLLVTLAILTALRLCAYCCNI...</td>\n",
       "    </tr>\n",
       "  </tbody>\n",
       "</table>\n",
       "<p>3049 rows × 2 columns</p>\n",
       "</div>"
      ],
      "text/plain": [
       "      Type                                           Sequence\n",
       "0        1  EPATILLIDDHPMLRTGVKQLISMAPDITVVGEASNGEQGIELAES...\n",
       "1        1  MKRESHKHAEQARRNRLAVALHELASLIPAEWKQQNVSAAPSKATT...\n",
       "2        1                      RPYACPVESCDRRFSRSADLTRHIRIHTG\n",
       "3        1  GPYLVIVEQPKQRGFRFRYGCEGPSHGGLPGASSEKGRKTYPTVKI...\n",
       "4        1  ALTNAQILAVIDSWEETVGQFPVITHHVPLGGGLQGTLHCYEIPLA...\n",
       "...    ...                                                ...\n",
       "3044     0  MANMLYFSLLALLFMTGIASEGTISSGLASLKAKIDAKRPSGKQLF...\n",
       "3045     0  MTFRKSFDCYDFYDRAKVGEKCTQDDWDLMKIPMKAMELKQKYGLD...\n",
       "3046     0  MSPYFKLSSALIFLAITMEALCSPIENTSTSNKDNDKETEHIEISA...\n",
       "3047     0  MGRICPVNSRARRLRARPGRPSGDSLPYHQLQGGAPRLWSPDPGRP...\n",
       "3048     0  MYSFVSEETGTLIVNSVLLFLAFVVFLLVTLAILTALRLCAYCCNI...\n",
       "\n",
       "[3049 rows x 2 columns]"
      ]
     },
     "execution_count": 4,
     "metadata": {},
     "output_type": "execute_result"
    }
   ],
   "source": [
    "Train_data = Train_data.drop([\"ID\"],axis=1)\n",
    "Train_data"
   ]
  },
  {
   "cell_type": "code",
   "execution_count": 5,
   "metadata": {},
   "outputs": [
    {
     "data": {
      "image/png": "[encoded data removed]",
      "text/plain": [
       "<Figure size 432x288 with 1 Axes>"
      ]
     },
     "metadata": {
      "needs_background": "light"
     },
     "output_type": "display_data"
    }
   ],
   "source": [
    "sns.countplot(x=\"Type\", data=Train_data, palette=\"bwr\")\n",
    "plt.show()"
   ]
  },
  {
   "cell_type": "code",
   "execution_count": 6,
   "metadata": {},
   "outputs": [],
   "source": [
    "x_train = Train_data[\"Sequence\"]\n",
    "y_train = Train_data[\"Type\"]"
   ]
  },
  {
   "cell_type": "code",
   "execution_count": 7,
   "metadata": {},
   "outputs": [],
   "source": [
    "aminoacid_sequence = ['A','C','D','E','F','G','H','I','K','L','M','N','P','Q','R','S','T','V','W','Y']\n",
    "#dipeptide_seq = aminoacid_sequence"
   ]
  },
  {
   "cell_type": "code",
   "execution_count": 8,
   "metadata": {},
   "outputs": [],
   "source": [
    "def get_amino_acid_dict(str): \n",
    "    size = len(str)\n",
    "    i = 0\n",
    "    eachseq_list = []\n",
    "    while( i < size - 1 ):\n",
    "        add_seq = str[i] \n",
    "        eachseq_list.append(add_seq)\n",
    "        i += 1\n",
    "    getdict = {}\n",
    "    \n",
    "    for item in eachseq_list:\n",
    "        if getdict.get(item) == None:\n",
    "            getdict[item] = 1\n",
    "        else:\n",
    "            temp = getdict[item]\n",
    "            temp += 1\n",
    "            getdict[item] = temp\n",
    "    \n",
    "    new_dict = {}\n",
    "    for item in getdict:\n",
    "        value = getdict[item]\n",
    "        value = value/(len(str))\n",
    "        new_dict[item] = value\n",
    "    return new_dict"
   ]
  },
  {
   "cell_type": "code",
   "execution_count": 9,
   "metadata": {},
   "outputs": [],
   "source": [
    "def getlist_of_dictionary(x_train):\n",
    "    list_dictionary = []\n",
    "    \n",
    "    for each in x_train:\n",
    "        dic = get_amino_acid_dict(each)\n",
    "        list_dictionary.append(dic)    \n",
    "    return list_dictionary"
   ]
  },
  {
   "cell_type": "code",
   "execution_count": 10,
   "metadata": {},
   "outputs": [],
   "source": [
    "def getvector(vector_dictionary):\n",
    "    final_vector = []\n",
    "    \n",
    "    for dic in vector_dictionary:\n",
    "        vec = [0.0] * 20\n",
    "        for item in dic:\n",
    "            for seq in aminoacid_sequence:\n",
    "                if seq == item:\n",
    "                    index = aminoacid_sequence.index(seq)\n",
    "                    vec[index] = dic[item]\n",
    "                    \n",
    "        final_vector.append(vec)            \n",
    "    \n",
    "    return final_vector"
   ]
  },
  {
   "cell_type": "code",
   "execution_count": 11,
   "metadata": {},
   "outputs": [],
   "source": [
    "training_vector_dict = getlist_of_dictionary(x_train)\n",
    "X_Train = getvector(training_vector_dict)"
   ]
  },
  {
   "cell_type": "code",
   "execution_count": 12,
   "metadata": {},
   "outputs": [],
   "source": [
    "x = np.array(X_Train)\n",
    "y = np.array(y_train)"
   ]
  },
  {
   "cell_type": "code",
   "execution_count": 13,
   "metadata": {},
   "outputs": [],
   "source": [
    "x_train, x_val, y_train, y_val = train_test_split(x,y, test_size=0.2, random_state=42)"
   ]
  },
  {
   "cell_type": "code",
   "execution_count": 14,
   "metadata": {},
   "outputs": [
    {
     "data": {
      "text/plain": [
       "array([[0.06439394, 0.01136364, 0.01893939, ..., 0.0719697 , 0.01515152,\n",
       "        0.05681818],\n",
       "       [0.1980198 , 0.02970297, 0.00990099, ..., 0.02970297, 0.01980198,\n",
       "        0.00990099],\n",
       "       [0.04906542, 0.04205607, 0.04205607, ..., 0.06074766, 0.00934579,\n",
       "        0.03037383],\n",
       "       ...,\n",
       "       [0.0430839 , 0.01662887, 0.06500378, ..., 0.03628118, 0.00302343,\n",
       "        0.03703704],\n",
       "       [0.07023411, 0.01337793, 0.090301  , ..., 0.0367893 , 0.00668896,\n",
       "        0.00668896],\n",
       "       [0.07843137, 0.01960784, 0.02941176, ..., 0.10784314, 0.        ,\n",
       "        0.00980392]])"
      ]
     },
     "execution_count": 14,
     "metadata": {},
     "output_type": "execute_result"
    }
   ],
   "source": [
    "x_train"
   ]
  },
  {
   "cell_type": "markdown",
   "metadata": {},
   "source": [
    "# Machine Learning Models"
   ]
  },
  {
   "cell_type": "code",
   "execution_count": 15,
   "metadata": {},
   "outputs": [
    {
     "name": "stdout",
     "output_type": "stream",
     "text": [
      "Fitting 10 folds for each of 12 candidates, totalling 120 fits\n"
     ]
    }
   ],
   "source": [
    "svm_model = Pipeline([('clf', SVC())])\n",
    "param_C = [0.0001, 0.001, 0.01, 0.1, 1.0, 10.0]\n",
    "param_scoring = [\"accuracy\"]\n",
    "\n",
    "param = [{'clf__C': param_C,'clf__kernel': ['linear','rbf']}]\n",
    "grid = GridSearchCV(estimator=svm_model,param_grid=param,refit = 'accuracy',scoring=param_scoring,verbose = 100,cv=10,n_jobs=-1)\n",
    "grid = grid.fit(x_train,y_train)"
   ]
  },
  {
   "cell_type": "code",
   "execution_count": 16,
   "metadata": {},
   "outputs": [
    {
     "name": "stdout",
     "output_type": "stream",
     "text": [
      " The Accuracy of the SVM is :73.10%\n",
      " Best Parameters :  {'clf__C': 1.0, 'clf__kernel': 'rbf'}\n"
     ]
    }
   ],
   "source": [
    "SVM_acc = grid.best_score_*100\n",
    "print(\" The Accuracy of the SVM is :{:.2f}%\".format(SVM_acc))\n",
    "print(\" Best Parameters : \",grid.best_params_)"
   ]
  },
  {
   "cell_type": "code",
   "execution_count": 17,
   "metadata": {},
   "outputs": [],
   "source": [
    "classifier = grid.best_estimator_\n",
    "classifier.fit(x_train, y_train)\n",
    "\n",
    "y_pred = classifier.predict(x_val)"
   ]
  },
  {
   "cell_type": "code",
   "execution_count": 18,
   "metadata": {},
   "outputs": [],
   "source": [
    "from sklearn.model_selection import RepeatedStratifiedKFold\n",
    "\n",
    "cv_method = RepeatedStratifiedKFold(n_splits=5, \n",
    "                                    n_repeats=3, \n",
    "                                    random_state=999)"
   ]
  },
  {
   "cell_type": "code",
   "execution_count": 19,
   "metadata": {},
   "outputs": [],
   "source": [
    "params_KNN = {'n_neighbors': [1,2,3,4], 'p': [1]}"
   ]
  },
  {
   "cell_type": "code",
   "execution_count": 20,
   "metadata": {},
   "outputs": [],
   "source": [
    "KNN = GridSearchCV(estimator=KNeighborsClassifier(), \n",
    "                      param_grid=params_KNN, \n",
    "                      cv=cv_method,\n",
    "                      verbose=100,  \n",
    "                      scoring='accuracy', \n",
    "                      return_train_score=True)"
   ]
  },
  {
   "cell_type": "code",
   "execution_count": 21,
   "metadata": {},
   "outputs": [
    {
     "name": "stdout",
     "output_type": "stream",
     "text": [
      "Fitting 15 folds for each of 4 candidates, totalling 60 fits\n",
      "[CV 1/15; 1/4] START n_neighbors=1, p=1.........................................\n",
      "[CV 1/15; 1/4] END n_neighbors=1, p=1;, score=(train=1.000, test=0.670) total time=   0.0s\n",
      "[CV 2/15; 1/4] START n_neighbors=1, p=1.........................................\n",
      "[CV 2/15; 1/4] END n_neighbors=1, p=1;, score=(train=1.000, test=0.664) total time=   0.0s\n",
      "[CV 3/15; 1/4] START n_neighbors=1, p=1.........................................\n",
      "[CV 3/15; 1/4] END n_neighbors=1, p=1;, score=(train=1.000, test=0.668) total time=   0.0s\n",
      "[CV 4/15; 1/4] START n_neighbors=1, p=1.........................................\n",
      "[CV 4/15; 1/4] END n_neighbors=1, p=1;, score=(train=1.000, test=0.641) total time=   0.0s\n",
      "[CV 5/15; 1/4] START n_neighbors=1, p=1.........................................\n",
      "[CV 5/15; 1/4] END n_neighbors=1, p=1;, score=(train=1.000, test=0.669) total time=   0.0s\n",
      "[CV 6/15; 1/4] START n_neighbors=1, p=1.........................................\n",
      "[CV 6/15; 1/4] END n_neighbors=1, p=1;, score=(train=1.000, test=0.670) total time=   0.0s\n",
      "[CV 7/15; 1/4] START n_neighbors=1, p=1.........................................\n",
      "[CV 7/15; 1/4] END n_neighbors=1, p=1;, score=(train=1.000, test=0.666) total time=   0.0s\n",
      "[CV 8/15; 1/4] START n_neighbors=1, p=1.........................................\n",
      "[CV 8/15; 1/4] END n_neighbors=1, p=1;, score=(train=1.000, test=0.658) total time=   0.0s\n",
      "[CV 9/15; 1/4] START n_neighbors=1, p=1.........................................\n",
      "[CV 9/15; 1/4] END n_neighbors=1, p=1;, score=(train=1.000, test=0.650) total time=   0.0s\n",
      "[CV 10/15; 1/4] START n_neighbors=1, p=1........................................\n",
      "[CV 10/15; 1/4] END n_neighbors=1, p=1;, score=(train=1.000, test=0.649) total time=   0.0s\n",
      "[CV 11/15; 1/4] START n_neighbors=1, p=1........................................\n",
      "[CV 11/15; 1/4] END n_neighbors=1, p=1;, score=(train=1.000, test=0.627) total time=   0.0s\n",
      "[CV 12/15; 1/4] START n_neighbors=1, p=1........................................\n",
      "[CV 12/15; 1/4] END n_neighbors=1, p=1;, score=(train=1.000, test=0.652) total time=   0.0s\n",
      "[CV 13/15; 1/4] START n_neighbors=1, p=1........................................\n",
      "[CV 13/15; 1/4] END n_neighbors=1, p=1;, score=(train=1.000, test=0.672) total time=   0.0s\n",
      "[CV 14/15; 1/4] START n_neighbors=1, p=1........................................\n",
      "[CV 14/15; 1/4] END n_neighbors=1, p=1;, score=(train=1.000, test=0.672) total time=   0.0s\n",
      "[CV 15/15; 1/4] START n_neighbors=1, p=1........................................\n",
      "[CV 15/15; 1/4] END n_neighbors=1, p=1;, score=(train=1.000, test=0.669) total time=   0.0s\n",
      "[CV 1/15; 2/4] START n_neighbors=2, p=1.........................................\n",
      "[CV 1/15; 2/4] END n_neighbors=2, p=1;, score=(train=0.845, test=0.656) total time=   0.0s\n",
      "[CV 2/15; 2/4] START n_neighbors=2, p=1.........................................\n",
      "[CV 2/15; 2/4] END n_neighbors=2, p=1;, score=(train=0.855, test=0.637) total time=   0.0s\n",
      "[CV 3/15; 2/4] START n_neighbors=2, p=1.........................................\n",
      "[CV 3/15; 2/4] END n_neighbors=2, p=1;, score=(train=0.846, test=0.682) total time=   0.0s\n",
      "[CV 4/15; 2/4] START n_neighbors=2, p=1.........................................\n",
      "[CV 4/15; 2/4] END n_neighbors=2, p=1;, score=(train=0.855, test=0.650) total time=   0.0s\n",
      "[CV 5/15; 2/4] START n_neighbors=2, p=1.........................................\n",
      "[CV 5/15; 2/4] END n_neighbors=2, p=1;, score=(train=0.851, test=0.653) total time=   0.0s\n",
      "[CV 6/15; 2/4] START n_neighbors=2, p=1.........................................\n",
      "[CV 6/15; 2/4] END n_neighbors=2, p=1;, score=(train=0.851, test=0.664) total time=   0.0s\n",
      "[CV 7/15; 2/4] START n_neighbors=2, p=1.........................................\n",
      "[CV 7/15; 2/4] END n_neighbors=2, p=1;, score=(train=0.851, test=0.652) total time=   0.0s\n",
      "[CV 8/15; 2/4] START n_neighbors=2, p=1.........................................\n",
      "[CV 8/15; 2/4] END n_neighbors=2, p=1;, score=(train=0.852, test=0.684) total time=   0.0s\n",
      "[CV 9/15; 2/4] START n_neighbors=2, p=1.........................................\n",
      "[CV 9/15; 2/4] END n_neighbors=2, p=1;, score=(train=0.854, test=0.668) total time=   0.0s\n",
      "[CV 10/15; 2/4] START n_neighbors=2, p=1........................................\n",
      "[CV 10/15; 2/4] END n_neighbors=2, p=1;, score=(train=0.845, test=0.653) total time=   0.0s\n",
      "[CV 11/15; 2/4] START n_neighbors=2, p=1........................................\n",
      "[CV 11/15; 2/4] END n_neighbors=2, p=1;, score=(train=0.842, test=0.670) total time=   0.0s\n",
      "[CV 12/15; 2/4] START n_neighbors=2, p=1........................................\n",
      "[CV 12/15; 2/4] END n_neighbors=2, p=1;, score=(train=0.859, test=0.666) total time=   0.0s\n",
      "[CV 13/15; 2/4] START n_neighbors=2, p=1........................................\n",
      "[CV 13/15; 2/4] END n_neighbors=2, p=1;, score=(train=0.850, test=0.652) total time=   0.0s\n",
      "[CV 14/15; 2/4] START n_neighbors=2, p=1........................................\n",
      "[CV 14/15; 2/4] END n_neighbors=2, p=1;, score=(train=0.850, test=0.689) total time=   0.0s\n",
      "[CV 15/15; 2/4] START n_neighbors=2, p=1........................................\n",
      "[CV 15/15; 2/4] END n_neighbors=2, p=1;, score=(train=0.847, test=0.684) total time=   0.0s\n",
      "[CV 1/15; 3/4] START n_neighbors=3, p=1.........................................\n",
      "[CV 1/15; 3/4] END n_neighbors=3, p=1;, score=(train=0.833, test=0.682) total time=   0.0s\n",
      "[CV 2/15; 3/4] START n_neighbors=3, p=1.........................................\n",
      "[CV 2/15; 3/4] END n_neighbors=3, p=1;, score=(train=0.849, test=0.674) total time=   0.0s\n",
      "[CV 3/15; 3/4] START n_neighbors=3, p=1.........................................\n",
      "[CV 3/15; 3/4] END n_neighbors=3, p=1;, score=(train=0.834, test=0.684) total time=   0.0s\n",
      "[CV 4/15; 3/4] START n_neighbors=3, p=1.........................................\n",
      "[CV 4/15; 3/4] END n_neighbors=3, p=1;, score=(train=0.838, test=0.699) total time=   0.0s\n",
      "[CV 5/15; 3/4] START n_neighbors=3, p=1.........................................\n",
      "[CV 5/15; 3/4] END n_neighbors=3, p=1;, score=(train=0.835, test=0.671) total time=   0.0s\n",
      "[CV 6/15; 3/4] START n_neighbors=3, p=1.........................................\n",
      "[CV 6/15; 3/4] END n_neighbors=3, p=1;, score=(train=0.823, test=0.676) total time=   0.0s\n",
      "[CV 7/15; 3/4] START n_neighbors=3, p=1.........................................\n",
      "[CV 7/15; 3/4] END n_neighbors=3, p=1;, score=(train=0.844, test=0.699) total time=   0.0s\n",
      "[CV 8/15; 3/4] START n_neighbors=3, p=1.........................................\n",
      "[CV 8/15; 3/4] END n_neighbors=3, p=1;, score=(train=0.834, test=0.695) total time=   0.0s\n",
      "[CV 9/15; 3/4] START n_neighbors=3, p=1.........................................\n",
      "[CV 9/15; 3/4] END n_neighbors=3, p=1;, score=(train=0.834, test=0.670) total time=   0.0s\n",
      "[CV 10/15; 3/4] START n_neighbors=3, p=1........................................\n",
      "[CV 10/15; 3/4] END n_neighbors=3, p=1;, score=(train=0.838, test=0.655) total time=   0.0s\n",
      "[CV 11/15; 3/4] START n_neighbors=3, p=1........................................\n",
      "[CV 11/15; 3/4] END n_neighbors=3, p=1;, score=(train=0.834, test=0.660) total time=   0.0s\n",
      "[CV 12/15; 3/4] START n_neighbors=3, p=1........................................\n",
      "[CV 12/15; 3/4] END n_neighbors=3, p=1;, score=(train=0.835, test=0.676) total time=   0.0s\n",
      "[CV 13/15; 3/4] START n_neighbors=3, p=1........................................\n",
      "[CV 13/15; 3/4] END n_neighbors=3, p=1;, score=(train=0.838, test=0.664) total time=   0.0s\n",
      "[CV 14/15; 3/4] START n_neighbors=3, p=1........................................\n",
      "[CV 14/15; 3/4] END n_neighbors=3, p=1;, score=(train=0.829, test=0.701) total time=   0.0s\n",
      "[CV 15/15; 3/4] START n_neighbors=3, p=1........................................\n",
      "[CV 15/15; 3/4] END n_neighbors=3, p=1;, score=(train=0.839, test=0.708) total time=   0.0s\n",
      "[CV 1/15; 4/4] START n_neighbors=4, p=1.........................................\n",
      "[CV 1/15; 4/4] END n_neighbors=4, p=1;, score=(train=0.809, test=0.676) total time=   0.0s\n",
      "[CV 2/15; 4/4] START n_neighbors=4, p=1.........................................\n",
      "[CV 2/15; 4/4] END n_neighbors=4, p=1;, score=(train=0.815, test=0.660) total time=   0.0s\n",
      "[CV 3/15; 4/4] START n_neighbors=4, p=1.........................................\n",
      "[CV 3/15; 4/4] END n_neighbors=4, p=1;, score=(train=0.801, test=0.699) total time=   0.0s\n",
      "[CV 4/15; 4/4] START n_neighbors=4, p=1.........................................\n",
      "[CV 4/15; 4/4] END n_neighbors=4, p=1;, score=(train=0.817, test=0.691) total time=   0.0s\n",
      "[CV 5/15; 4/4] START n_neighbors=4, p=1.........................................\n",
      "[CV 5/15; 4/4] END n_neighbors=4, p=1;, score=(train=0.813, test=0.684) total time=   0.0s\n",
      "[CV 6/15; 4/4] START n_neighbors=4, p=1.........................................\n",
      "[CV 6/15; 4/4] END n_neighbors=4, p=1;, score=(train=0.814, test=0.682) total time=   0.0s\n",
      "[CV 7/15; 4/4] START n_neighbors=4, p=1.........................................\n",
      "[CV 7/15; 4/4] END n_neighbors=4, p=1;, score=(train=0.804, test=0.697) total time=   0.0s\n",
      "[CV 8/15; 4/4] START n_neighbors=4, p=1.........................................\n",
      "[CV 8/15; 4/4] END n_neighbors=4, p=1;, score=(train=0.809, test=0.689) total time=   0.0s\n",
      "[CV 9/15; 4/4] START n_neighbors=4, p=1.........................................\n",
      "[CV 9/15; 4/4] END n_neighbors=4, p=1;, score=(train=0.818, test=0.666) total time=   0.0s\n",
      "[CV 10/15; 4/4] START n_neighbors=4, p=1........................................\n",
      "[CV 10/15; 4/4] END n_neighbors=4, p=1;, score=(train=0.807, test=0.680) total time=   0.0s\n",
      "[CV 11/15; 4/4] START n_neighbors=4, p=1........................................\n",
      "[CV 11/15; 4/4] END n_neighbors=4, p=1;, score=(train=0.814, test=0.666) total time=   0.0s\n",
      "[CV 12/15; 4/4] START n_neighbors=4, p=1........................................\n",
      "[CV 12/15; 4/4] END n_neighbors=4, p=1;, score=(train=0.819, test=0.680) total time=   0.0s\n",
      "[CV 13/15; 4/4] START n_neighbors=4, p=1........................................\n",
      "[CV 13/15; 4/4] END n_neighbors=4, p=1;, score=(train=0.821, test=0.648) total time=   0.0s\n",
      "[CV 14/15; 4/4] START n_neighbors=4, p=1........................................\n",
      "[CV 14/15; 4/4] END n_neighbors=4, p=1;, score=(train=0.798, test=0.707) total time=   0.0s\n",
      "[CV 15/15; 4/4] START n_neighbors=4, p=1........................................\n",
      "[CV 15/15; 4/4] END n_neighbors=4, p=1;, score=(train=0.812, test=0.694) total time=   0.0s\n"
     ]
    },
    {
     "data": {
      "text/plain": [
       "GridSearchCV(cv=RepeatedStratifiedKFold(n_repeats=3, n_splits=5, random_state=999),\n",
       "             estimator=KNeighborsClassifier(),\n",
       "             param_grid={'n_neighbors': [1, 2, 3, 4], 'p': [1]},\n",
       "             return_train_score=True, scoring='accuracy', verbose=100)"
      ]
     },
     "execution_count": 21,
     "metadata": {},
     "output_type": "execute_result"
    }
   ],
   "source": [
    "KNN.fit(x_train, y_train)"
   ]
  },
  {
   "cell_type": "code",
   "execution_count": 22,
   "metadata": {},
   "outputs": [
    {
     "data": {
      "text/plain": [
       "{'n_neighbors': 4, 'p': 1}"
      ]
     },
     "execution_count": 22,
     "metadata": {},
     "output_type": "execute_result"
    }
   ],
   "source": [
    "KNN.best_params_"
   ]
  },
  {
   "cell_type": "code",
   "execution_count": 23,
   "metadata": {},
   "outputs": [
    {
     "name": "stdout",
     "output_type": "stream",
     "text": [
      "Accuracy of KNN is: 68.12%\n"
     ]
    }
   ],
   "source": [
    "KNN_acc = KNN.best_score_*100\n",
    "print(\"Accuracy of KNN is: {:.2f}%\".format(KNN_acc))"
   ]
  },
  {
   "cell_type": "code",
   "execution_count": 24,
   "metadata": {},
   "outputs": [
    {
     "data": {
      "text/plain": [
       "0.6557377049180327"
      ]
     },
     "execution_count": 24,
     "metadata": {},
     "output_type": "execute_result"
    }
   ],
   "source": [
    "accuracy_score(y_val,KNN.predict(x_val))"
   ]
  },
  {
   "cell_type": "code",
   "execution_count": 25,
   "metadata": {},
   "outputs": [],
   "source": [
    "clf_rfi = RandomForestClassifier(n_estimators=531,random_state=17)"
   ]
  },
  {
   "cell_type": "code",
   "execution_count": 26,
   "metadata": {},
   "outputs": [
    {
     "data": {
      "text/plain": [
       "RandomForestClassifier(n_estimators=531, random_state=17)"
      ]
     },
     "execution_count": 26,
     "metadata": {},
     "output_type": "execute_result"
    }
   ],
   "source": [
    "clf_rfi.fit(x_train,y_train)"
   ]
  },
  {
   "cell_type": "code",
   "execution_count": 27,
   "metadata": {},
   "outputs": [
    {
     "data": {
      "text/plain": [
       "1.0"
      ]
     },
     "execution_count": 27,
     "metadata": {},
     "output_type": "execute_result"
    }
   ],
   "source": [
    "accuracy_score(y_train,clf_rfi.predict(x_train))"
   ]
  },
  {
   "cell_type": "code",
   "execution_count": 28,
   "metadata": {},
   "outputs": [
    {
     "name": "stdout",
     "output_type": "stream",
     "text": [
      "Accuracy of Random Forest is: 69.84%\n"
     ]
    }
   ],
   "source": [
    "RF_acc = accuracy_score(y_val,clf_rfi.predict(x_val))*100\n",
    "print(\"Accuracy of Random Forest is: {:.2f}%\".format(RF_acc))"
   ]
  },
  {
   "cell_type": "code",
   "execution_count": 29,
   "metadata": {},
   "outputs": [
    {
     "name": "stderr",
     "output_type": "stream",
     "text": [
      "c:\\Users\\shaik\\AppData\\Local\\Programs\\Python\\Python310\\lib\\site-packages\\seaborn\\_decorators.py:36: FutureWarning: Pass the following variables as keyword args: x, y. From version 0.12, the only valid positional argument will be `data`, and passing other arguments without an explicit keyword will result in an error or misinterpretation.\n",
      "  warnings.warn(\n"
     ]
    },
    {
     "data": {
      "text/plain": [
       "<AxesSubplot:xlabel='Algorithms', ylabel='Accuracy %'>"
      ]
     },
     "execution_count": 29,
     "metadata": {},
     "output_type": "execute_result"
    },
    {
     "data": {
      "image/png": "[encoded data removed]",
      "text/plain": [
       "<Figure size 1152x360 with 1 Axes>"
      ]
     },
     "metadata": {},
     "output_type": "display_data"
    }
   ],
   "source": [
    "algorithms=['KNN','Random Forest','SVM']\n",
    "scores=[KNN_acc,RF_acc,SVM_acc]\n",
    "sns.set_style(\"whitegrid\")\n",
    "plt.figure(figsize=(16,5))\n",
    "plt.yticks(np.arange(0,100,10))\n",
    "plt.ylabel(\"Accuracy %\")\n",
    "plt.xlabel(\"Algorithms\")\n",
    "sns.barplot(algorithms,scores)"
   ]
  },
  {
   "cell_type": "markdown",
   "metadata": {},
   "source": [
    "# Connecting to Uniprot"
   ]
  },
  {
   "cell_type": "code",
   "execution_count": 30,
   "metadata": {},
   "outputs": [],
   "source": [
    "import requests, sys\n",
    "\n",
    "WEBSITE_API = \"https://rest.uniprot.org\"\n",
    "\n",
    "# Helper function to download data\n",
    "def get_url(url, **kwargs):\n",
    "  response = requests.get(url, **kwargs);\n",
    "\n",
    "  if not response.ok:\n",
    "    print(response.text)\n",
    "    response.raise_for_status()\n",
    "    sys.exit()\n",
    "\n",
    "  return response"
   ]
  },
  {
   "cell_type": "code",
   "execution_count": 32,
   "metadata": {},
   "outputs": [],
   "source": [
    "ID =input(\"Give your uniproot ID\")\n",
    "r = get_url(f\"{WEBSITE_API}/uniprotkb/accessions?accessions={ID}&format=fasta\")\n",
    "fasta = r.text\n",
    "sequence = open(\"sequence.fasta\",'w')\n",
    "sequence.write(fasta)\n",
    "sequence.close()\n",
    "from Bio import SeqIO\n",
    "\n",
    "File_Name =\"sequence.fasta\"\n",
    "Seq_object = SeqIO.read(File_Name,\"fasta\")\n",
    "sequence = Seq_object.seq\n",
    "sequence = sequence.upper()\n"
   ]
  },
  {
   "cell_type": "code",
   "execution_count": 33,
   "metadata": {},
   "outputs": [],
   "source": [
    "header = ['ID', 'Sequence']\n",
    "data = [ID, sequence]\n",
    "with open('test.csv', 'w', encoding='UTF8', newline='') as f:\n",
    "    writer = csv.writer(f)\n",
    "    writer.writerow(header)\n",
    "    writer.writerow(data)"
   ]
  },
  {
   "cell_type": "code",
   "execution_count": 34,
   "metadata": {},
   "outputs": [],
   "source": [
    "id = []\n",
    "test_sequence = []\n",
    "test = \"test.csv\"\n",
    "with open(test) as f:\n",
    "    for line in f:\n",
    "        after_split = line.split(\",\")\n",
    "        if after_split[0] == 'ID':\n",
    "            continue\n",
    "        id.append(after_split[0])\n",
    "        test_sequence.append(after_split[1][:-1])"
   ]
  },
  {
   "cell_type": "code",
   "execution_count": 35,
   "metadata": {},
   "outputs": [
    {
     "data": {
      "text/plain": [
       "(1, 20)"
      ]
     },
     "execution_count": 35,
     "metadata": {},
     "output_type": "execute_result"
    }
   ],
   "source": [
    "testing_vector_dict = getlist_of_dictionary(test_sequence)\n",
    "x_test = getvector(testing_vector_dict)\n",
    "x_test = np.array(x_test)\n",
    "x_test.shape"
   ]
  },
  {
   "cell_type": "code",
   "execution_count": 36,
   "metadata": {},
   "outputs": [
    {
     "name": "stdout",
     "output_type": "stream",
     "text": [
      "[1]\n",
      "Yes it is a DNA Binding Protein\n",
      "The functions of the given sequence are \n",
      " Entry\tFunction [CC]\tSubcellular location [CC]\tPost-translational modification\tSequence\n",
      "P0ACF8\tFUNCTION: A DNA-binding protein implicated in transcriptional repression (silencing) (PubMed:333393, PubMed:2128918, PubMed:8890170, PubMed:8913298, PubMed:9398522, PubMed:16963779, PubMed:17046956, PubMed:23543115). Also involved in bacterial chromosome organization and compaction (PubMed:6379600, PubMed:10982869, PubMed:21903814). H-NS binds tightly to AT-rich dsDNA and inhibits transcription (PubMed:2512122, PubMed:16963779, PubMed:17435766, PubMed:17881364, PubMed:23543115). Binds upstream and downstream of initiating RNA polymerase, trapping it in a loop and preventing transcription (PubMed:11714691). Binds to hundreds of sites, approximately half its binding sites are in non-coding DNA, which only accounts for about 10% of the genome (PubMed:16963779, PubMed:17046956, PubMed:23543115). Many of these loci were horizontally transferred (HTG); this offers the selective advantage of silencing foreign DNA while keeping it in the genome in case of need (PubMed:17046956, PubMed:17881364, PubMed:26789284). Suppresses transcription at many intragenic sites as well as transcription of spurious, non-coding RNAs genome-wide (PubMed:24449106). Repression of HTG by H-NS is thought to allow their DNA to evolve faster than non-H-NS-bound regions, and facilitates integration of HTG into transcriptional regulatory networks (PubMed:26789284). A subset of H-NS/StpA-regulated genes also require Hha (and/or Cnu, ydgT) for repression; Hha and Cnu increase the number of genes DNA bound by H-NS/StpA and may also modulate the oligomerization of the H-NS/StpA-complex (PubMed:23543115). The protein forms 2 clusters in the nucleoid which gather hns-bound loci together, bridging non-contiguous DNA, and causes DNA substantial condensation (PubMed:21903814). Binds DNA better at low temperatures than at 37 degrees Celsius; AT-rich sites nucleate H-NS binding, further DNA-binding is cooperative and this cooperativity decreases with rising temperature (PubMed:17435766, PubMed:17881364). Transcriptional repression can be inhibited by dominant-negative mutants of StpA or itself (PubMed:8755860). May effect transcriptional elongation (PubMed:25638302). Can increase translational efficiency of mRNA with suboptimal Shine-Dalgarno sequences (PubMed:20595230). Plays a role in the thermal control of pili and adhesive curli fimbriae production, by inducing transcription of csgD (PubMed:17010156). Plays a role in flagellar function (PubMed:11031114). Represses the CRISPR-cas promoters, permits only weak transcription of the crRNA precursor; its repression is antagonized by LeuO (PubMed:20132443, PubMed:20659289). Binds preferentially to the upstream region of its own gene recognizing two segments of DNA on both sides of a bend centered around -150 (PubMed:7934818). Overexpression suppresses secY24, a temperature-sensitive mutation (PubMed:1537791). Has also been reported to activate transcription of some genes (PubMed:4566454, PubMed:338303, PubMed:2128918). {ECO:0000269|PubMed:10982869, ECO:0000269|PubMed:11031114, ECO:0000269|PubMed:11714691, ECO:0000269|PubMed:1537791, ECO:0000269|PubMed:16963779, ECO:0000269|PubMed:17010156, ECO:0000269|PubMed:17046956, ECO:0000269|PubMed:17435766, ECO:0000269|PubMed:17881364, ECO:0000269|PubMed:20132443, ECO:0000269|PubMed:20595230, ECO:0000269|PubMed:20659289, ECO:0000269|PubMed:2128918, ECO:0000269|PubMed:21903814, ECO:0000269|PubMed:23543115, ECO:0000269|PubMed:24449106, ECO:0000269|PubMed:2512122, ECO:0000269|PubMed:26789284, ECO:0000269|PubMed:333393, ECO:0000269|PubMed:338303, ECO:0000269|PubMed:4566454, ECO:0000269|PubMed:6379600, ECO:0000269|PubMed:7934818, ECO:0000269|PubMed:8755860, ECO:0000269|PubMed:8890170, ECO:0000269|PubMed:8913298, ECO:0000269|PubMed:9398522, ECO:0000305|PubMed:25638302}.\tSUBCELLULAR LOCATION: Cytoplasm, nucleoid {ECO:0000269|PubMed:21903814, ECO:0000269|PubMed:333393}. Note=Forms 2 compact clusters per chromosome, located at one-quarter and three-quarter positions on the cell's long axis: 2 H-NS-repressed genes were closely associated with H-NS clusters while a non-H-NS-repressed gene was not substantially associated with the H-NS cluster (PubMed:21903814). {ECO:0000269|PubMed:21903814}.\tPTM: Cells (strain MRE-600) in mid-exponential phase have three 15.5 kDa proteins with 3 different isoelectric points; the major form (H1a, pI 7.5) rises in concentration during growth while the 2 minor forms (H1b, pI about 7.2 and H1c, pI 7.0) remain approximately constant (PubMed:6379600). {ECO:0000269|PubMed:6379600}.\tMSEALKILNNIRTLRAQARECTLETLEEMLEKLEVVVNERREEESAAAAEVEERTRKLQQYREMLIADGIDPNELLNSLAAVKSGTKAKRAQRPAKYSYVDENGETKTWTGQGRTPAVIKKAMDEQGKSLDDFLIKQ\n",
      "\n"
     ]
    }
   ],
   "source": [
    "ans_SVM = classifier.predict(x_test)\n",
    "print(ans_SVM)\n",
    "if ans_SVM == 1:\n",
    "    print(\"Yes it is a DNA Binding Protein\")\n",
    "    str1 = f\"{WEBSITE_API}/uniprotkb/search?query=\"\n",
    "    str2 = ID\n",
    "    str3 = \"&includeIsoform=true&fields=accession,cc_function,cc_subcellular_location,cc_ptm,sequence&format=tsv\"\n",
    "    str = str1 + str2 + str3 \n",
    "    r = get_url(str)\n",
    "    print(\"The functions of the given sequence are \\n\",r.text)\n",
    "else:\n",
    "    print(\"No it is not a DNA Binding Protein\")"
   ]
  }
 ],
 "metadata": {
  "kernelspec": {
   "display_name": "Python 3.10.6 64-bit",
   "language": "python",
   "name": "python3"
  },
  "language_info": {
   "codemirror_mode": {
    "name": "ipython",
    "version": 3
   },
   "file_extension": ".py",
   "mimetype": "text/x-python",
   "name": "python",
   "nbconvert_exporter": "python",
   "pygments_lexer": "ipython3",
   "version": "3.10.6"
  },
  "orig_nbformat": 4,
  "vscode": {
   "interpreter": {
    "hash": "26de051ba29f2982a8de78e945f0abaf191376122a1563185a90213a26c5da77"
   }
  }
 },
 "nbformat": 4,
 "nbformat_minor": 2
}
